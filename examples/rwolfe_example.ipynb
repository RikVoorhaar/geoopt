{
 "cells": [
  {
   "cell_type": "code",
   "execution_count": 1,
   "metadata": {},
   "outputs": [],
   "source": [
    "import sys\n",
    "import geoopt\n",
    "import torch\n",
    "import numpy as np\n",
    "import pytest\n",
    "\n",
    "import matplotlib.pyplot as plt"
   ]
  },
  {
   "cell_type": "markdown",
   "metadata": {},
   "source": [
    "Use `geoopt` to do line search optimization where parameters are constrained to manifolds. \n",
    "\n",
    "As example we will try to find the basis of a matrix $A$ in which it has the smallest 1-norm by minimizing $\\|XAY\\|_1$ where $X,Y$ are orthogonal"
   ]
  },
  {
   "cell_type": "code",
   "execution_count": 2,
   "metadata": {},
   "outputs": [
    {
     "output_type": "execute_result",
     "data": {
      "text/plain": "Tensor on (Sphere)x(Sphere) manifold containing:\ntensor([-0.2364, -0.3048,  0.1211, -0.4428,  0.2482, -0.2867,  0.2788, -0.5560,\n         0.3234,  0.0728, -0.0279, -0.0252,  0.4324, -0.2188, -0.2871, -0.1346,\n        -0.3842, -0.3572,  0.1025, -0.6144])"
     },
     "metadata": {},
     "execution_count": 2
    }
   ],
   "source": [
    "sphere = geoopt.manifolds.Sphere()\n",
    "torus = geoopt.manifolds.ProductManifold(*[(sphere,10)]*2)\n",
    "point = torus.random(20)\n",
    "point"
   ]
  },
  {
   "cell_type": "code",
   "execution_count": 3,
   "metadata": {},
   "outputs": [
    {
     "output_type": "execute_result",
     "data": {
      "text/plain": "(tensor([[-0.1333,  0.1254, -0.0490,  ..., -0.1619, -0.0184,  0.0007],\n         [-0.0771,  0.0013,  0.0826,  ...,  0.0609,  0.0841, -0.0999],\n         [ 0.1675,  0.0737, -0.0271,  ..., -0.0092,  0.1793,  0.1258],\n         ...,\n         [ 0.0209, -0.0217, -0.1054,  ..., -0.1240, -0.1194,  0.0341],\n         [-0.0329, -0.0586,  0.1153,  ..., -0.0039,  0.1052, -0.0061],\n         [ 0.0348, -0.1333, -0.0477,  ...,  0.1258, -0.0130,  0.1702]]),\n tensor([[-0.0387, -0.1010,  0.1340,  ...,  0.0038, -0.0154,  0.0201],\n         [ 0.1047, -0.0535, -0.0156,  ..., -0.1084, -0.0014,  0.0946],\n         [-0.0749, -0.0755, -0.0089,  ...,  0.0665,  0.0425,  0.0003],\n         ...,\n         [-0.0294, -0.0646,  0.0375,  ..., -0.0364,  0.0114,  0.0098],\n         [-0.0093, -0.1048,  0.0372,  ...,  0.0916, -0.1114,  0.0966],\n         [ 0.0858,  0.0218,  0.0418,  ..., -0.0280, -0.0259,  0.0879]]))"
     },
     "metadata": {},
     "execution_count": 3
    }
   ],
   "source": [
    "(n,m) = (100,200)\n",
    "stiefel = geoopt.manifolds.Stiefel()\n",
    "stief_prod = geoopt.manifolds.ProductManifold((stiefel,(n,n)),(stiefel,(m,m)))\n",
    "XY = stief_prod.random(n**2+m**2)\n",
    "stief_prod.unpack_tensor(XY)"
   ]
  },
  {
   "cell_type": "code",
   "execution_count": 7,
   "metadata": {
    "tags": []
   },
   "outputs": [
    {
     "output_type": "error",
     "ename": "KeyError",
     "evalue": "'params'",
     "traceback": [
      "\u001b[1;31m---------------------------------------------------------------------------\u001b[0m",
      "\u001b[1;31mKeyError\u001b[0m                                  Traceback (most recent call last)",
      "\u001b[1;32m<ipython-input-7-5378205bcece>\u001b[0m in \u001b[0;36m<module>\u001b[1;34m\u001b[0m\n\u001b[0;32m     23\u001b[0m     \u001b[1;32mreturn\u001b[0m \u001b[0mloss\u001b[0m\u001b[1;33m.\u001b[0m\u001b[0mitem\u001b[0m\u001b[1;33m(\u001b[0m\u001b[1;33m)\u001b[0m\u001b[1;33m\u001b[0m\u001b[1;33m\u001b[0m\u001b[0m\n\u001b[0;32m     24\u001b[0m \u001b[1;33m\u001b[0m\u001b[0m\n\u001b[1;32m---> 25\u001b[1;33m \u001b[0moptim\u001b[0m \u001b[1;33m=\u001b[0m \u001b[0mgeoopt\u001b[0m\u001b[1;33m.\u001b[0m\u001b[0moptim\u001b[0m\u001b[1;33m.\u001b[0m\u001b[0mRiemannianLineSearch\u001b[0m\u001b[1;33m(\u001b[0m\u001b[1;33m[\u001b[0m\u001b[1;33m{\u001b[0m\u001b[1;34m'a'\u001b[0m\u001b[1;33m:\u001b[0m\u001b[1;33m[\u001b[0m\u001b[0mX\u001b[0m\u001b[1;33m]\u001b[0m\u001b[1;33m}\u001b[0m\u001b[1;33m,\u001b[0m\u001b[1;33m{\u001b[0m\u001b[1;34m'b'\u001b[0m\u001b[1;33m:\u001b[0m\u001b[1;33m[\u001b[0m\u001b[0mY\u001b[0m\u001b[1;33m]\u001b[0m\u001b[1;33m}\u001b[0m\u001b[1;33m]\u001b[0m\u001b[1;33m,\u001b[0m\u001b[0mstabilize\u001b[0m\u001b[1;33m=\u001b[0m\u001b[1;36m2\u001b[0m\u001b[1;33m)\u001b[0m\u001b[1;33m\u001b[0m\u001b[1;33m\u001b[0m\u001b[0m\n\u001b[0m\u001b[0;32m     26\u001b[0m \u001b[0mlosses\u001b[0m \u001b[1;33m=\u001b[0m \u001b[1;33m[\u001b[0m\u001b[1;33m]\u001b[0m\u001b[1;33m\u001b[0m\u001b[1;33m\u001b[0m\u001b[0m\n\u001b[0;32m     27\u001b[0m \u001b[0mlosses2\u001b[0m \u001b[1;33m=\u001b[0m \u001b[1;33m[\u001b[0m\u001b[1;33m]\u001b[0m\u001b[1;33m\u001b[0m\u001b[1;33m\u001b[0m\u001b[0m\n",
      "\u001b[1;32mc:\\git\\geoopt\\geoopt\\optim\\rwolfe.py\u001b[0m in \u001b[0;36m__init__\u001b[1;34m(self, params, stabilize, c1, c2, fallback_stepsize, amax, amin)\u001b[0m\n\u001b[0;32m     72\u001b[0m             \u001b[0mstabilize\u001b[0m\u001b[1;33m=\u001b[0m\u001b[0mstabilize\u001b[0m\u001b[1;33m,\u001b[0m\u001b[1;33m\u001b[0m\u001b[1;33m\u001b[0m\u001b[0m\n\u001b[0;32m     73\u001b[0m         )\n\u001b[1;32m---> 74\u001b[1;33m         super(RiemannianLineSearch, self).__init__(\n\u001b[0m\u001b[0;32m     75\u001b[0m             \u001b[0mparams\u001b[0m\u001b[1;33m,\u001b[0m \u001b[0mdefaults\u001b[0m\u001b[1;33m,\u001b[0m \u001b[0mstabilize\u001b[0m\u001b[1;33m=\u001b[0m\u001b[0mstabilize\u001b[0m\u001b[1;33m\u001b[0m\u001b[1;33m\u001b[0m\u001b[0m\n\u001b[0;32m     76\u001b[0m         )\n",
      "\u001b[1;32mc:\\git\\geoopt\\geoopt\\optim\\mixin.py\u001b[0m in \u001b[0;36m__init__\u001b[1;34m(self, stabilize, *args, **kwargs)\u001b[0m\n\u001b[0;32m      8\u001b[0m     \u001b[1;32mdef\u001b[0m \u001b[0m__init__\u001b[0m\u001b[1;33m(\u001b[0m\u001b[0mself\u001b[0m\u001b[1;33m,\u001b[0m \u001b[1;33m*\u001b[0m\u001b[0margs\u001b[0m\u001b[1;33m,\u001b[0m \u001b[0mstabilize\u001b[0m\u001b[1;33m=\u001b[0m\u001b[1;32mNone\u001b[0m\u001b[1;33m,\u001b[0m \u001b[1;33m**\u001b[0m\u001b[0mkwargs\u001b[0m\u001b[1;33m)\u001b[0m\u001b[1;33m:\u001b[0m\u001b[1;33m\u001b[0m\u001b[1;33m\u001b[0m\u001b[0m\n\u001b[0;32m      9\u001b[0m         \u001b[0mself\u001b[0m\u001b[1;33m.\u001b[0m\u001b[0m_stabilize\u001b[0m \u001b[1;33m=\u001b[0m \u001b[0mstabilize\u001b[0m\u001b[1;33m\u001b[0m\u001b[1;33m\u001b[0m\u001b[0m\n\u001b[1;32m---> 10\u001b[1;33m         \u001b[0msuper\u001b[0m\u001b[1;33m(\u001b[0m\u001b[1;33m)\u001b[0m\u001b[1;33m.\u001b[0m\u001b[0m__init__\u001b[0m\u001b[1;33m(\u001b[0m\u001b[1;33m*\u001b[0m\u001b[0margs\u001b[0m\u001b[1;33m,\u001b[0m \u001b[1;33m**\u001b[0m\u001b[0mkwargs\u001b[0m\u001b[1;33m)\u001b[0m\u001b[1;33m\u001b[0m\u001b[1;33m\u001b[0m\u001b[0m\n\u001b[0m\u001b[0;32m     11\u001b[0m \u001b[1;33m\u001b[0m\u001b[0m\n\u001b[0;32m     12\u001b[0m     \u001b[1;32mdef\u001b[0m \u001b[0mstabilize_group\u001b[0m\u001b[1;33m(\u001b[0m\u001b[0mself\u001b[0m\u001b[1;33m,\u001b[0m \u001b[0mgroup\u001b[0m\u001b[1;33m)\u001b[0m\u001b[1;33m:\u001b[0m\u001b[1;33m\u001b[0m\u001b[1;33m\u001b[0m\u001b[0m\n",
      "\u001b[1;32m~\\miniconda3\\envs\\tensors\\lib\\site-packages\\torch\\optim\\optimizer.py\u001b[0m in \u001b[0;36m__init__\u001b[1;34m(self, params, defaults)\u001b[0m\n\u001b[0;32m     49\u001b[0m \u001b[1;33m\u001b[0m\u001b[0m\n\u001b[0;32m     50\u001b[0m         \u001b[1;32mfor\u001b[0m \u001b[0mparam_group\u001b[0m \u001b[1;32min\u001b[0m \u001b[0mparam_groups\u001b[0m\u001b[1;33m:\u001b[0m\u001b[1;33m\u001b[0m\u001b[1;33m\u001b[0m\u001b[0m\n\u001b[1;32m---> 51\u001b[1;33m             \u001b[0mself\u001b[0m\u001b[1;33m.\u001b[0m\u001b[0madd_param_group\u001b[0m\u001b[1;33m(\u001b[0m\u001b[0mparam_group\u001b[0m\u001b[1;33m)\u001b[0m\u001b[1;33m\u001b[0m\u001b[1;33m\u001b[0m\u001b[0m\n\u001b[0m\u001b[0;32m     52\u001b[0m \u001b[1;33m\u001b[0m\u001b[0m\n\u001b[0;32m     53\u001b[0m     \u001b[1;32mdef\u001b[0m \u001b[0m__getstate__\u001b[0m\u001b[1;33m(\u001b[0m\u001b[0mself\u001b[0m\u001b[1;33m)\u001b[0m\u001b[1;33m:\u001b[0m\u001b[1;33m\u001b[0m\u001b[1;33m\u001b[0m\u001b[0m\n",
      "\u001b[1;32m~\\miniconda3\\envs\\tensors\\lib\\site-packages\\torch\\optim\\optimizer.py\u001b[0m in \u001b[0;36madd_param_group\u001b[1;34m(self, param_group)\u001b[0m\n\u001b[0;32m    190\u001b[0m         \u001b[1;32massert\u001b[0m \u001b[0misinstance\u001b[0m\u001b[1;33m(\u001b[0m\u001b[0mparam_group\u001b[0m\u001b[1;33m,\u001b[0m \u001b[0mdict\u001b[0m\u001b[1;33m)\u001b[0m\u001b[1;33m,\u001b[0m \u001b[1;34m\"param group must be a dict\"\u001b[0m\u001b[1;33m\u001b[0m\u001b[1;33m\u001b[0m\u001b[0m\n\u001b[0;32m    191\u001b[0m \u001b[1;33m\u001b[0m\u001b[0m\n\u001b[1;32m--> 192\u001b[1;33m         \u001b[0mparams\u001b[0m \u001b[1;33m=\u001b[0m \u001b[0mparam_group\u001b[0m\u001b[1;33m[\u001b[0m\u001b[1;34m'params'\u001b[0m\u001b[1;33m]\u001b[0m\u001b[1;33m\u001b[0m\u001b[1;33m\u001b[0m\u001b[0m\n\u001b[0m\u001b[0;32m    193\u001b[0m         \u001b[1;32mif\u001b[0m \u001b[0misinstance\u001b[0m\u001b[1;33m(\u001b[0m\u001b[0mparams\u001b[0m\u001b[1;33m,\u001b[0m \u001b[0mtorch\u001b[0m\u001b[1;33m.\u001b[0m\u001b[0mTensor\u001b[0m\u001b[1;33m)\u001b[0m\u001b[1;33m:\u001b[0m\u001b[1;33m\u001b[0m\u001b[1;33m\u001b[0m\u001b[0m\n\u001b[0;32m    194\u001b[0m             \u001b[0mparam_group\u001b[0m\u001b[1;33m[\u001b[0m\u001b[1;34m'params'\u001b[0m\u001b[1;33m]\u001b[0m \u001b[1;33m=\u001b[0m \u001b[1;33m[\u001b[0m\u001b[0mparams\u001b[0m\u001b[1;33m]\u001b[0m\u001b[1;33m\u001b[0m\u001b[1;33m\u001b[0m\u001b[0m\n",
      "\u001b[1;31mKeyError\u001b[0m: 'params'"
     ]
    }
   ],
   "source": [
    "(n,m) = (100,200)\n",
    "A = torch.randn(n,m)\n",
    "stiefel = geoopt.manifolds.Stiefel()\n",
    "\n",
    "X = stiefel.random((n,n))\n",
    "X.requires_grad=True\n",
    "Y = stiefel.random((m,m))\n",
    "Y.requires_grad=True\n",
    "\n",
    "(n,m) = (100,200)\n",
    "stiefel = geoopt.manifolds.Stiefel()\n",
    "stief_prod = geoopt.manifolds.ProductManifold((stiefel,(n,n)),(stiefel,(m,m)))\n",
    "XY = stief_prod.random(n**2+m**2)\n",
    "XY.requires_grad=True\n",
    "\n",
    "\n",
    "def closure():\n",
    "    optim.zero_grad()\n",
    "    #X,Y = stief_prod.unpack_tensor(XY)\n",
    "    loss = (X@A@Y).norm(p=1)\n",
    "    loss.backward()\n",
    "\n",
    "    return loss.item()\n",
    "\n",
    "optim = geoopt.optim.RiemannianLineSearch([{'a':[X]},{'b':[Y]}],stabilize=2)\n",
    "losses = []\n",
    "losses2 = []\n",
    "for i in range(500):\n",
    "    losses.append(optim.step(closure))\n",
    "\n",
    "\n",
    "plt.plot(losses)\n",
    "plt.figure()\n",
    "log_step_sizes = (np.log10([x if (x is not None) else 1 for x in optim.step_size_history]))\n",
    "plt.plot(log_step_sizes)\n",
    "plt.show()"
   ]
  },
  {
   "cell_type": "code",
   "execution_count": null,
   "metadata": {},
   "outputs": [],
   "source": []
  }
 ],
 "metadata": {
  "language_info": {
   "codemirror_mode": {
    "name": "ipython",
    "version": 3
   },
   "file_extension": ".py",
   "mimetype": "text/x-python",
   "name": "python",
   "nbconvert_exporter": "python",
   "pygments_lexer": "ipython3",
   "version": 3
  },
  "orig_nbformat": 2,
  "kernelspec": {
   "name": "python_defaultSpec_1594821445931",
   "display_name": "Python 3.8.3 64-bit ('tensors': conda)"
  }
 },
 "nbformat": 4,
 "nbformat_minor": 2
}